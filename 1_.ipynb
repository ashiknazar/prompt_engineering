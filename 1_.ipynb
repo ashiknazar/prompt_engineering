{
 "cells": [
  {
   "cell_type": "markdown",
   "metadata": {},
   "source": [
    "### Prompts\n",
    "\n",
    "Prompts are cues or suggestions that stimulate ideas or responses. They can take various forms, such as questions, statements, or images, and are often used in writing, art, and conversation to inspire creativity or guide discussions. For example, a writing prompt might be a sentence that starts a story, while a conversation prompt could be a thought-provoking question to spark dialogue. Would you like some examples of prompts in a specific context?"
   ]
  },
  {
   "cell_type": "markdown",
   "metadata": {},
   "source": [
    "- the question asked\n",
    "- the tone mentioned in the query\n",
    "- the context given for the query\n",
    "- the format of output expected"
   ]
  },
  {
   "cell_type": "markdown",
   "metadata": {},
   "source": [
    "- multimodality\n",
    "- tokens\n",
    "- weights\n",
    "- parameters\n",
    "- transformers\n"
   ]
  },
  {
   "cell_type": "markdown",
   "metadata": {},
   "source": [
    "### Text Condensation "
   ]
  },
  {
   "cell_type": "markdown",
   "metadata": {},
   "source": [
    "- explain global warming\n",
    "___"
   ]
  },
  {
   "cell_type": "markdown",
   "metadata": {},
   "source": [
    "Global warming refers to the long-term increase in Earth's average surface temperature due to human activities, primarily the emission of greenhouse gases (GHGs) like carbon dioxide (CO2), methane (CH4), and nitrous oxide (N2O). These gases trap heat in the atmosphere, creating a \"greenhouse effect.\"\n",
    "\n",
    "Key Points:\n",
    "Greenhouse Effect: The Earth's atmosphere allows sunlight to enter but traps some of the outgoing heat. An increase in GHGs enhances this effect, leading to warming.\n",
    "\n",
    "Causes:\n",
    "\n",
    "Fossil Fuels: Burning coal, oil, and natural gas for energy releases large amounts of CO2.\n",
    "Deforestation: Trees absorb CO2; cutting them down reduces this natural absorption.\n",
    "Agriculture: Livestock produce methane, and certain farming practices release nitrous oxide.\n",
    "Consequences:\n",
    "\n",
    "Rising Temperatures: Global average temperatures have risen significantly over the last century.\n",
    "Melting Ice Caps: Glaciers and polar ice are melting, contributing to rising sea levels.\n",
    "Extreme Weather: Increased frequency and intensity of storms, droughts, and heatwaves.\n",
    "Ecosystem Disruption: Changes in habitats affect wildlife and plant species.\n",
    "Mitigation Efforts: Strategies to combat global warming include reducing GHG emissions, transitioning to renewable energy sources, enhancing energy efficiency, and reforestation.\n",
    "\n",
    "Global warming poses significant challenges to ecosystems, human health, and economies worldwide, making it a critical issue for global cooperation and action.\n",
    "___"
   ]
  },
  {
   "cell_type": "markdown",
   "metadata": {},
   "source": [
    "use the above content and condense into brief explanation\n",
    "___"
   ]
  },
  {
   "cell_type": "markdown",
   "metadata": {},
   "source": [
    "Global warming is the long-term increase in Earth's average temperature due to human activities, primarily the release of greenhouse gases (GHGs) like carbon dioxide and methane. These gases trap heat in the atmosphere, enhancing the greenhouse effect.\n",
    "\n",
    "Key Points:\n",
    "Causes: Major sources include burning fossil fuels, deforestation, and agricultural practices.\n",
    "Consequences: Rising temperatures lead to melting ice caps, rising sea levels, extreme weather events, and ecosystem disruption.\n",
    "Mitigation: Efforts to address global warming focus on reducing GHG emissions, transitioning to renewable energy, and improving energy efficiency.\n",
    "Global warming poses serious risks to the environment, human health, and economies, requiring urgent global action.\n",
    "___"
   ]
  },
  {
   "cell_type": "markdown",
   "metadata": {},
   "source": [
    "### Information Synthesis and retrieval"
   ]
  },
  {
   "cell_type": "markdown",
   "metadata": {},
   "source": [
    "\"Researchers often use various AI tools, including LLMs like OpenAI's GPT, in their studies. A transparent disclosure of these tools helps maintain integrity in scientific publication. It's important for authors to disclose the extent of AI assistance in their research, and journals should be upfront about their AI usage in the review process. Identify the specific LLM mentioned in the text:\"\n",
    "___"
   ]
  },
  {
   "cell_type": "markdown",
   "metadata": {},
   "source": [
    "The specific LLM mentioned in the text is OpenAI's GPT."
   ]
  },
  {
   "cell_type": "markdown",
   "metadata": {},
   "source": [
    "___\n",
    "### Enhanced query response"
   ]
  },
  {
   "cell_type": "markdown",
   "metadata": {},
   "source": [
    "provide an answer based on the context given.be succint and clear.if uncertain,respond with cannot confirm.<br>\n",
    "Context:the innovative drug ,alzumab was a result of collaborative effort between several biotech firms.this drug aimed at treating autoimmune disorders ,rep a significant breakthrough in biomedicine<br>\n",
    "Question: what is the purpose of aizumab\n",
    "___"
   ]
  },
  {
   "cell_type": "markdown",
   "metadata": {},
   "source": [
    "the purpose of alzumab is to treat autoimmune disorders"
   ]
  },
  {
   "cell_type": "markdown",
   "metadata": {},
   "source": [
    "___\n",
    "### Advanced text categorization"
   ]
  },
  {
   "cell_type": "markdown",
   "metadata": {},
   "source": [
    "assess the sentiment of the following statement as positive,negative or neutral\n",
    "___"
   ]
  },
  {
   "cell_type": "markdown",
   "metadata": {},
   "source": [
    "you havnt provided statement"
   ]
  },
  {
   "cell_type": "markdown",
   "metadata": {},
   "source": [
    "___"
   ]
  },
  {
   "cell_type": "markdown",
   "metadata": {},
   "source": [
    "the movies stunning visuals overshadow its weak storyline\n",
    "___"
   ]
  },
  {
   "cell_type": "markdown",
   "metadata": {},
   "source": [
    "the sentiment is mixed.positive(stunning visual),\n",
    "negative(weak storyline)"
   ]
  },
  {
   "cell_type": "markdown",
   "metadata": {},
   "source": [
    "___\n",
    "### Dynamic Conversations\n",
    "\n",
    "___"
   ]
  },
  {
   "cell_type": "markdown",
   "metadata": {},
   "source": [
    "\n",
    "## components of prompts"
   ]
  },
  {
   "cell_type": "markdown",
   "metadata": {},
   "source": [
    "### 1.context\n",
    " - this sets the scene or provide background information necessary for understanding the prompt\n",
    "### 2.task\n",
    "\n",
    "### 3.persona\n",
    " identity (as a medical person prescribe)\n",
    "\n",
    "### 4.Format\n",
    "  the the result should be presented\n",
    "### 5.Exemplar\n",
    "\n",
    "### 6.Tone\n",
    " mood  \n",
    "  \n"
   ]
  },
  {
   "cell_type": "markdown",
   "metadata": {},
   "source": [
    "### prompt tuning\n",
    "- is a method that enhances the adaptability of large language models\n",
    "- by fine tuning a minimal set of prompt parameters\n",
    "- appending a tailored prompt before the input text\n"
   ]
  },
  {
   "cell_type": "markdown",
   "metadata": {},
   "source": [
    "- prompt tuning is the practice of customizing llms for new applications by adjusting a limited subset of parameters ,known as prompts\n",
    "- these prompts placed before the input,navigate the llm toward producing the intended output"
   ]
  },
  {
   "cell_type": "markdown",
   "metadata": {},
   "source": [
    "- Advantages \n",
    "   - efficiency \n",
    "   - versatility\n",
    "   - interpretability\n",
    "   "
   ]
  },
  {
   "cell_type": "markdown",
   "metadata": {},
   "source": [
    "1. Action verb: write (write a story)\n",
    "2. Topic/theme : \n",
    "3. constraints/limitations:\n",
    "4. background /information context:\n",
    "5. conflict/challenge\n",
    " "
   ]
  },
  {
   "cell_type": "markdown",
   "metadata": {},
   "source": [
    "Eg:: Text classification:<br>\n",
    "- testing,Prompt validation \n",
    "- check for errors\n",
    "- feedback\n",
    "- modify prompt\n",
    "- fine tune\n",
    "- retesting\n",
    "- iterate as needed\n"
   ]
  },
  {
   "cell_type": "markdown",
   "metadata": {},
   "source": [
    "<b>athropic prompt library</b>"
   ]
  },
  {
   "cell_type": "markdown",
   "metadata": {},
   "source": []
  }
 ],
 "metadata": {
  "language_info": {
   "name": "python"
  }
 },
 "nbformat": 4,
 "nbformat_minor": 2
}
